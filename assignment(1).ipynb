{
 "cells": [
  {
   "cell_type": "code",
   "execution_count": 5,
   "id": "8efa29b8-909a-4d72-b248-907c955bc211",
   "metadata": {},
   "outputs": [
    {
     "name": "stdout",
     "output_type": "stream",
     "text": [
      "this is my string\n",
      "[1, 2, 3, 6.0, 'four']\n",
      "3.23\n",
      "(1, 2, 'three', 'four')\n"
     ]
    }
   ],
   "source": [
    "#Q1.create a variable containing following data type of data:\n",
    "#1.string\n",
    "my_string=\"this is my string\"\n",
    "print(my_string)\n",
    "#2.list\n",
    "my_list=[1,2,3,6.0,\"four\"]\n",
    "print(my_list)\n",
    "#3.float\n",
    "my_float=3.23\n",
    "print(my_float)\n",
    "#4.tuple\n",
    "my_tuple=(1,2,\"three\",\"four\")\n",
    "print(my_tuple)"
   ]
  },
  {
   "cell_type": "code",
   "execution_count": 15,
   "id": "61d5fe58-ddc5-4058-bcbc-820be49d5b2a",
   "metadata": {},
   "outputs": [
    {
     "name": "stdout",
     "output_type": "stream",
     "text": [
      "<class 'str'>\n",
      "<class 'str'>\n",
      "<class 'list'>\n",
      "<class 'float'>\n"
     ]
    }
   ],
   "source": [
    "\n",
    "#2.Given are some following variables containing containing data:\n",
    "var1=' '\n",
    "var2='[DS,ML,python]'\n",
    "var3=['DS','ML','python']\n",
    "var4=1.\n",
    "print(type(var1))\n",
    "print(type(var2))\n",
    "print(type(var3))\n",
    "print(type(var4))\n"
   ]
  },
  {
   "cell_type": "code",
   "execution_count": 21,
   "id": "6e9d0328-44ca-4c62-bd31-f9a055bc232f",
   "metadata": {},
   "outputs": [
    {
     "name": "stdout",
     "output_type": "stream",
     "text": [
      "5.0\n",
      "the number is an odd number\n",
      "3\n",
      "8\n"
     ]
    }
   ],
   "source": [
    "#3.explain the use of following operator using an example\n",
    "#i./\n",
    "#this operator is division operator in python is used to divide one number by another\n",
    "x=10\n",
    "y=2\n",
    "z=x/y\n",
    "print(z)\n",
    "#ii.%\n",
    "#the % operator in python called modulo or remainder operator it returns the remainder of the division of two numbers\n",
    "x=15\n",
    "if x%2==0:\n",
    "    print(\"the number is an even number\")\n",
    "else:\n",
    "    print(\"the number is an odd number\")\n",
    "#iii.//\n",
    "#the // operator is called the floor division it returns the quotient of the division of two numbers rounded down to the nearest integer\n",
    "a=15\n",
    "b=5\n",
    "c=a//b\n",
    "print(c)\n",
    "#iv.**\n",
    "#the ** operator in the python is exponentiation operator.it is used to raise a number to a power\n",
    "x=2\n",
    "y=3\n",
    "z=2**3\n",
    "print(z)\n"
   ]
  },
  {
   "cell_type": "code",
   "execution_count": 22,
   "id": "ac5319c3-fcf7-476e-9754-bdca539e86a9",
   "metadata": {},
   "outputs": [
    {
     "name": "stdout",
     "output_type": "stream",
     "text": [
      "1\n",
      "2\n",
      "3\n",
      "sudh\n",
      "pwskills\n",
      "9.0\n",
      "[7, 3]\n",
      "bishal\n",
      "neha\n",
      "10\n"
     ]
    }
   ],
   "source": [
    "#4.create a list of length 10 of your choice containing multiooles types of data.using the for loop print the element and its data type\n",
    "l=[1,2,3,\"sudh\",\"pwskills\",9.0,[7,3],'bishal',\"neha\",10]\n",
    "for i in l:\n",
    "    print(i)"
   ]
  },
  {
   "cell_type": "code",
   "execution_count": 34,
   "id": "6c840799-f3ae-4605-9b19-9a3372e1d4f9",
   "metadata": {},
   "outputs": [
    {
     "name": "stdin",
     "output_type": "stream",
     "text": [
      "enter the first number:  1000\n",
      "enter the seconfd number:  10\n"
     ]
    },
    {
     "name": "stdout",
     "output_type": "stream",
     "text": [
      " 1 is divisible by 10 exactly 3 times\n"
     ]
    }
   ],
   "source": [
    "#5.using a while loop,verify if the number a is purely divisible by number B and if so how many times it can be divisible\n",
    "a=int(input(\"enter the first number: \"))\n",
    "b=int(input(\"enter the seconfd number: \"))\n",
    "counter=0\n",
    "while a%b==0: \n",
    "    counter=counter+1\n",
    "    a//=b\n",
    "if counter>0:\n",
    "      print(f\" {a} is divisible by {b} exactly {counter} times\")\n",
    "else:\n",
    "      print(f\" {a} is not divisible by {b}.\")"
   ]
  },
  {
   "cell_type": "code",
   "execution_count": 42,
   "id": "888510fe-f8df-46fd-b790-ec4d88962b3b",
   "metadata": {},
   "outputs": [
    {
     "name": "stdout",
     "output_type": "stream",
     "text": [
      "1 is not divisible by 3\n",
      "2 is not divisible by 3\n",
      "3 is divisible by 3\n",
      "4 is not divisible by 3\n",
      "5 is not divisible by 3\n",
      "6 is divisible by 3\n",
      "7 is not divisible by 3\n",
      "8 is not divisible by 3\n",
      "9 is divisible by 3\n",
      "10 is not divisible by 3\n",
      "11 is not divisible by 3\n",
      "12 is divisible by 3\n",
      "13 is not divisible by 3\n",
      "14 is not divisible by 3\n",
      "15 is divisible by 3\n",
      "16 is not divisible by 3\n",
      "17 is not divisible by 3\n",
      "18 is divisible by 3\n",
      "19 is not divisible by 3\n",
      "20 is not divisible by 3\n",
      "21 is divisible by 3\n",
      "22 is not divisible by 3\n",
      "23 is not divisible by 3\n",
      "24 is divisible by 3\n",
      "25 is not divisible by 3\n"
     ]
    }
   ],
   "source": [
    "#6.create a list containing 25 int type data.using for loop and if else condition prinnt if the element is  divisible by 3 or not 3 or not.\n",
    "my_list=list(range(1,26))\n",
    "for num in my_list:\n",
    "    if num%3==0:\n",
    "        print(f\"{num} is divisible by 3\")\n",
    "    else:\n",
    "        print(f\"{num} is not divisible by 3\")\n",
    "\n",
    "    \n"
   ]
  },
  {
   "cell_type": "code",
   "execution_count": 43,
   "id": "10f48c4b-e0b5-4fda-be7a-cc73e724770d",
   "metadata": {},
   "outputs": [
    {
     "name": "stdout",
     "output_type": "stream",
     "text": [
      "[1, 2, 3, 4, 5]\n"
     ]
    }
   ],
   "source": [
    "#7.#what do you understand about mutable and immutable data types?give example for both showing these property\n",
    "#mutable types are objects whose value can be changed after they are created.when a mutable object is modified the original object is\n",
    "#updated rather than creating a new object mutable types include lists,sets and dictonaries\n",
    "my_list=[1,2,3,4]\n",
    "my_list.append(5)\n",
    "print(my_list)"
   ]
  },
  {
   "cell_type": "code",
   "execution_count": 45,
   "id": "25cdfa02-ce4f-4767-bdec-a99ef9833926",
   "metadata": {},
   "outputs": [
    {
     "name": "stdout",
     "output_type": "stream",
     "text": [
      "helloworld\n"
     ]
    }
   ],
   "source": [
    "#immutable types are objects whose value cannot be changed after they are  created\n",
    "#when an immutable objects is modified a new object is created with the modified value\n",
    "#immutable types include objects like integers,floas,strings and tuples\n",
    "my_string=\"hello\"\n",
    "my_string=my_string+\"world\"\n",
    "print(my_string)"
   ]
  },
  {
   "cell_type": "code",
   "execution_count": null,
   "id": "f5fdcdb8-19de-4080-ac1e-983f2da78348",
   "metadata": {},
   "outputs": [],
   "source": []
  }
 ],
 "metadata": {
  "kernelspec": {
   "display_name": "Python 3 (ipykernel)",
   "language": "python",
   "name": "python3"
  },
  "language_info": {
   "codemirror_mode": {
    "name": "ipython",
    "version": 3
   },
   "file_extension": ".py",
   "mimetype": "text/x-python",
   "name": "python",
   "nbconvert_exporter": "python",
   "pygments_lexer": "ipython3",
   "version": "3.10.8"
  }
 },
 "nbformat": 4,
 "nbformat_minor": 5
}
